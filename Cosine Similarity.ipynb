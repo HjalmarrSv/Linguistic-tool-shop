{
 "cells": [
  {
   "cell_type": "markdown",
   "id": "17d85664",
   "metadata": {},
   "source": [
    "# Cosine similarity"
   ]
  },
  {
   "cell_type": "markdown",
   "id": "4f413f6e",
   "metadata": {},
   "source": [
    "Compute cosine similarity between samples in X and Y.\n",
    "\n",
    "Cosine similarity, or the cosine kernel, computes similarity as the normalized dot product of X and Y:\n",
    "\n",
    "    K(X, Y) = <X, Y> / (||X||*||Y||)\n",
    "\n",
    "* https://scikit-learn.org/stable/modules/generated/sklearn.metrics.pairwise.cosine_similarity.html"
   ]
  },
  {
   "cell_type": "markdown",
   "id": "b0f7e2e4",
   "metadata": {},
   "source": [
    "Example:\n",
    "Cosine similarity between [-2,2] and [1,0]."
   ]
  },
  {
   "cell_type": "code",
   "execution_count": 1,
   "id": "d158956f",
   "metadata": {},
   "outputs": [
    {
     "name": "stdout",
     "output_type": "stream",
     "text": [
      "[[ 1.         -0.70710678]\n",
      " [-0.70710678  1.        ]]\n"
     ]
    }
   ],
   "source": [
    "from sklearn.metrics.pairwise import cosine_similarity\n",
    "\n",
    "print ( cosine_similarity([[-2,2], [1,0]]) )"
   ]
  },
  {
   "cell_type": "markdown",
   "id": "5c3ab4eb",
   "metadata": {},
   "source": [
    "Cosine similarity is -0.70710678."
   ]
  },
  {
   "cell_type": "markdown",
   "id": "39a1e4e9",
   "metadata": {},
   "source": [
    "Example:\n",
    "Cosine similarity between [0,0,0,1,1,1] and [1,1,1,0,0,0]."
   ]
  },
  {
   "cell_type": "code",
   "execution_count": 3,
   "id": "9956800c",
   "metadata": {},
   "outputs": [
    {
     "name": "stdout",
     "output_type": "stream",
     "text": [
      "[[1. 0.]\n",
      " [0. 1.]]\n"
     ]
    }
   ],
   "source": [
    "a = [0,0,0,1,1,1]\n",
    "b = [1,1,1,0,0,0]\n",
    "\n",
    "c = cosine_similarity([a,b])\n",
    "\n",
    "print (c)"
   ]
  },
  {
   "cell_type": "markdown",
   "id": "5ba22e7c",
   "metadata": {},
   "source": [
    "Cosine similarity is 0."
   ]
  },
  {
   "cell_type": "code",
   "execution_count": 4,
   "id": "9a64d85e",
   "metadata": {},
   "outputs": [
    {
     "name": "stdout",
     "output_type": "stream",
     "text": [
      "[[1. 1.]\n",
      " [1. 1.]]\n"
     ]
    }
   ],
   "source": [
    "a = [1,1,1]\n",
    "b = [1,1,1]\n",
    "\n",
    "c = cosine_similarity([a,b])\n",
    "\n",
    "print (c)"
   ]
  },
  {
   "cell_type": "code",
   "execution_count": null,
   "id": "f41ed194",
   "metadata": {},
   "outputs": [],
   "source": [
    "Cosine similarity is 1."
   ]
  }
 ],
 "metadata": {
  "kernelspec": {
   "display_name": "Python 3",
   "language": "python",
   "name": "python3"
  },
  "language_info": {
   "codemirror_mode": {
    "name": "ipython",
    "version": 3
   },
   "file_extension": ".py",
   "mimetype": "text/x-python",
   "name": "python",
   "nbconvert_exporter": "python",
   "pygments_lexer": "ipython3",
   "version": "3.9.7"
  }
 },
 "nbformat": 4,
 "nbformat_minor": 5
}
